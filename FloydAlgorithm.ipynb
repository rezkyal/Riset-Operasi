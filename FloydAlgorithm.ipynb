{
 "cells": [
  {
   "cell_type": "code",
   "execution_count": 1,
   "metadata": {
    "ExecuteTime": {
     "end_time": "2018-11-18T12:22:37.104334Z",
     "start_time": "2018-11-18T12:22:35.718498Z"
    }
   },
   "outputs": [],
   "source": [
    "import numpy\n",
    "import math"
   ]
  },
  {
   "cell_type": "code",
   "execution_count": 2,
   "metadata": {
    "ExecuteTime": {
     "end_time": "2018-11-18T12:23:22.060555Z",
     "start_time": "2018-11-18T12:23:22.058553Z"
    }
   },
   "outputs": [],
   "source": [
    "input_path='inputFloyd.txt'"
   ]
  },
  {
   "cell_type": "code",
   "execution_count": null,
   "metadata": {},
   "outputs": [],
   "source": [
    "def readData():\n",
    "    data=[]\n",
    "    with open(input_path) as file:\n",
    "        content = file.readlines()\n",
    "    for index,lines in enumerate (content):\n",
    "        content[index]=lines.split()\n",
    "    square=int(content[0][0])\n",
    "    content=content[1:]\n",
    "    "
   ]
  }
 ],
 "metadata": {
  "kernelspec": {
   "display_name": "Python 3",
   "language": "python",
   "name": "python3"
  },
  "language_info": {
   "codemirror_mode": {
    "name": "ipython",
    "version": 3
   },
   "file_extension": ".py",
   "mimetype": "text/x-python",
   "name": "python",
   "nbconvert_exporter": "python",
   "pygments_lexer": "ipython3",
   "version": "3.6.5"
  }
 },
 "nbformat": 4,
 "nbformat_minor": 2
}

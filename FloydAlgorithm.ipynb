{
 "cells": [
  {
   "cell_type": "code",
   "execution_count": 75,
   "metadata": {
    "ExecuteTime": {
     "end_time": "2018-12-04T07:05:07.997872Z",
     "start_time": "2018-12-04T07:05:07.993872Z"
    }
   },
   "outputs": [],
   "source": [
    "import numpy as np\n",
    "import math"
   ]
  },
  {
   "cell_type": "code",
   "execution_count": 76,
   "metadata": {
    "ExecuteTime": {
     "end_time": "2018-12-04T07:05:08.588077Z",
     "start_time": "2018-12-04T07:05:08.585080Z"
    }
   },
   "outputs": [],
   "source": [
    "input_path='inputFloyd.txt'"
   ]
  },
  {
   "cell_type": "code",
   "execution_count": 77,
   "metadata": {
    "ExecuteTime": {
     "end_time": "2018-12-04T07:05:09.104056Z",
     "start_time": "2018-12-04T07:05:09.097062Z"
    }
   },
   "outputs": [],
   "source": [
    "def readData():\n",
    "    data=[]\n",
    "    with open(input_path) as file:\n",
    "        content = file.readlines()\n",
    "    for index,lines in enumerate (content):\n",
    "        content[index]=lines.split()\n",
    "    square=int(content[0][0])\n",
    "    content=content[1:]\n",
    "    return square,content"
   ]
  },
  {
   "cell_type": "code",
   "execution_count": 78,
   "metadata": {
    "ExecuteTime": {
     "end_time": "2018-12-04T07:05:10.318511Z",
     "start_time": "2018-12-04T07:05:10.314509Z"
    }
   },
   "outputs": [],
   "source": [
    "square,content=readData()"
   ]
  },
  {
   "cell_type": "code",
   "execution_count": 79,
   "metadata": {
    "ExecuteTime": {
     "end_time": "2018-12-04T07:05:10.767963Z",
     "start_time": "2018-12-04T07:05:10.761966Z"
    }
   },
   "outputs": [],
   "source": [
    "dTable = np.empty((square,square))\n",
    "dTable[:]= math.inf\n",
    "sTable = np.empty((square,square))\n",
    "sTable[:]= math.inf"
   ]
  },
  {
   "cell_type": "code",
   "execution_count": 80,
   "metadata": {
    "ExecuteTime": {
     "end_time": "2018-12-04T07:05:11.661062Z",
     "start_time": "2018-12-04T07:05:11.657064Z"
    }
   },
   "outputs": [],
   "source": [
    "for i in range(0,square):\n",
    "    sTable[:,i]=i+1\n",
    "    s"
   ]
  },
  {
   "cell_type": "code",
   "execution_count": 81,
   "metadata": {
    "ExecuteTime": {
     "end_time": "2018-12-04T07:05:12.194115Z",
     "start_time": "2018-12-04T07:05:12.188118Z"
    }
   },
   "outputs": [],
   "source": [
    "for data in content:\n",
    "    dTable[int(data[0])-1][int(data[1])-1]=data[2]"
   ]
  },
  {
   "cell_type": "code",
   "execution_count": 82,
   "metadata": {
    "ExecuteTime": {
     "end_time": "2018-12-04T07:05:12.858603Z",
     "start_time": "2018-12-04T07:05:12.841613Z"
    }
   },
   "outputs": [
    {
     "name": "stdout",
     "output_type": "stream",
     "text": [
      "\n",
      "Iteration ke-1\n",
      "D Table: \n",
      " [[inf  3. 10. inf inf]\n",
      " [ 3. inf 13.  5. inf]\n",
      " [10. 13. inf  6. 15.]\n",
      " [inf  5.  6. inf  4.]\n",
      " [inf inf inf  4. inf]]\n",
      "S Table: \n",
      " [[1. 2. 3. 4. 5.]\n",
      " [1. 2. 1. 4. 5.]\n",
      " [1. 1. 3. 4. 5.]\n",
      " [1. 2. 3. 4. 5.]\n",
      " [1. 2. 3. 4. 5.]]\n",
      "\n",
      "Iteration ke-2\n",
      "D Table: \n",
      " [[inf  3. 10.  8. inf]\n",
      " [ 3. inf 13.  5. inf]\n",
      " [10. 13. inf  6. 15.]\n",
      " [ 8.  5.  6. inf  4.]\n",
      " [inf inf inf  4. inf]]\n",
      "S Table: \n",
      " [[1. 2. 3. 2. 5.]\n",
      " [1. 2. 1. 4. 5.]\n",
      " [1. 1. 3. 4. 5.]\n",
      " [2. 2. 3. 4. 5.]\n",
      " [1. 2. 3. 4. 5.]]\n",
      "\n",
      "Iteration ke-3\n",
      "D Table: \n",
      " [[inf  3. 10.  8. 25.]\n",
      " [ 3. inf 13.  5. 28.]\n",
      " [10. 13. inf  6. 15.]\n",
      " [ 8.  5.  6. inf  4.]\n",
      " [inf inf inf  4. inf]]\n",
      "S Table: \n",
      " [[1. 2. 3. 2. 3.]\n",
      " [1. 2. 1. 4. 3.]\n",
      " [1. 1. 3. 4. 5.]\n",
      " [2. 2. 3. 4. 5.]\n",
      " [1. 2. 3. 4. 5.]]\n",
      "\n",
      "Iteration ke-4\n",
      "D Table: \n",
      " [[inf  3. 10.  8. 12.]\n",
      " [ 3. inf 11.  5.  9.]\n",
      " [10. 11. inf  6. 10.]\n",
      " [ 8.  5.  6. inf  4.]\n",
      " [12.  9. 10.  4. inf]]\n",
      "S Table: \n",
      " [[1. 2. 3. 2. 4.]\n",
      " [1. 2. 4. 4. 4.]\n",
      " [1. 4. 3. 4. 4.]\n",
      " [2. 2. 3. 4. 5.]\n",
      " [4. 4. 4. 4. 5.]]\n",
      "\n",
      "Iteration ke-5\n",
      "D Table: \n",
      " [[inf  3. 10.  8. 12.]\n",
      " [ 3. inf 11.  5.  9.]\n",
      " [10. 11. inf  6. 10.]\n",
      " [ 8.  5.  6. inf  4.]\n",
      " [12.  9. 10.  4. inf]]\n",
      "S Table: \n",
      " [[1. 2. 3. 2. 4.]\n",
      " [1. 2. 4. 4. 4.]\n",
      " [1. 4. 3. 4. 4.]\n",
      " [2. 2. 3. 4. 5.]\n",
      " [4. 4. 4. 4. 5.]]\n"
     ]
    }
   ],
   "source": [
    "for i in range(0,square):\n",
    "    print(\"\\nIteration ke-\"+str(i+1))\n",
    "    for k in range(0,square):\n",
    "        for l in range(0,square):\n",
    "                if((k!=i or l!=i)and(k!=l)):\n",
    "                    compare=dTable[k,i]+dTable[i,l]\n",
    "                    if((compare<dTable[k,l])):\n",
    "                        dTable[k,l]=compare\n",
    "                        sTable[k,l]=i+1\n",
    "    print('D Table: \\n',dTable)\n",
    "    print('S Table: \\n',sTable)"
   ]
  }
 ],
 "metadata": {
  "kernelspec": {
   "display_name": "Python 3",
   "language": "python",
   "name": "python3"
  },
  "language_info": {
   "codemirror_mode": {
    "name": "ipython",
    "version": 3
   },
   "file_extension": ".py",
   "mimetype": "text/x-python",
   "name": "python",
   "nbconvert_exporter": "python",
   "pygments_lexer": "ipython3",
   "version": "3.6.5"
  }
 },
 "nbformat": 4,
 "nbformat_minor": 2
}

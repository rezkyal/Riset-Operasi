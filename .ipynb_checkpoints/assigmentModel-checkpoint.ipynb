{
 "cells": [
  {
   "cell_type": "code",
   "execution_count": 189,
   "metadata": {
    "ExecuteTime": {
     "end_time": "2018-11-17T08:20:29.058127Z",
     "start_time": "2018-11-17T08:20:28.998571Z"
    }
   },
   "outputs": [
    {
     "name": "stdout",
     "output_type": "stream",
     "text": [
      "wkwk [[0 3 2 2]\n",
      " [1 1 1 1]\n",
      " [0 1 4 3]\n",
      " [3 2 0 0]]\n",
      "wkwk [[0 3 2 2]\n",
      " [1 1 1 1]\n",
      " [0 1 4 3]\n",
      " [1 1 1 1]]\n",
      "wkwk [[0 3 2 2]\n",
      " [1 1 1 1]\n",
      " [0 1 4 3]\n",
      " [1 1 1 1]]\n",
      "haha [[1 3 2 2]\n",
      " [1 1 1 1]\n",
      " [1 1 4 3]\n",
      " [1 1 1 1]]\n",
      "wkwk [[0 2 1 1]\n",
      " [1 1 1 1]\n",
      " [0 0 3 2]\n",
      " [4 2 0 0]]\n",
      "wkwk [[0 2 1 1]\n",
      " [1 1 1 1]\n",
      " [1 1 1 1]\n",
      " [4 2 0 0]]\n",
      "wkwk [[0 2 1 1]\n",
      " [1 1 1 1]\n",
      " [1 1 1 1]\n",
      " [1 1 1 1]]\n",
      "wkwk [[0 2 1 1]\n",
      " [1 1 1 1]\n",
      " [1 1 1 1]\n",
      " [1 1 1 1]]\n",
      "haha [[0 2 1 1]\n",
      " [1 1 1 1]\n",
      " [1 1 1 1]\n",
      " [1 1 1 1]]\n",
      "wkwk [[1 1 1 1]\n",
      " [1 1 1 1]\n",
      " [1 1 1 1]\n",
      " [1 1 1 1]]\n",
      "haha [[1 2 1 1]\n",
      " [1 1 1 1]\n",
      " [1 1 1 1]\n",
      " [1 1 1 1]]\n",
      "[[1 2 1 1]\n",
      " [1 1 1 1]\n",
      " [1 1 1 1]\n",
      " [1 1 1 1]]\n",
      "[0 0 0 0] [0 0 0 0]\n",
      "[1 0 0 0] [1 0 0 0]\n",
      "[1 0 0 0] [1 0 0 0]\n",
      "[1 1 0 0] [1 1 0 0]\n",
      "[1 1 0 0] [1 1 0 0]\n",
      "[1 1 0 0] [1 1 0 0]\n",
      "[1 1 0 0] [1 1 0 0]\n",
      "[1 0 0 0] [1 0 0 0]\n",
      "[1 1 0 0] [1 0 1 0]\n",
      "[1 1 0 0] [1 0 1 0]\n",
      "[1 1 1 0] [1 1 1 0]\n",
      "[1 1 1 0] [1 1 1 0]\n",
      "[1 1 1 0] [1 1 1 0]\n",
      "[1 1 1 0] [1 1 1 0]\n",
      "[1 1 1 1] [1 1 1 1]\n"
     ]
    }
   ],
   "source": [
    "data,square = readData()\n",
    "data = np.array(data)\n",
    "data=deleteRow(data)\n",
    "data=deleteColumn(data)\n",
    "garisRow=np.zeros((square,), dtype=int)\n",
    "garisColumn=np.zeros((square,), dtype=int)\n",
    "data_lama=copy(data)\n",
    "data_baru,garisRow,garisColumn=garisin(data,garisRow,garisColumn,square)\n",
    "data=data_lama\n",
    "jumlahGaris=0\n",
    "jumlahGaris+=np.count_nonzero(garisRow)\n",
    "jumlahGaris+=np.count_nonzero(garisColumn)\n",
    "while jumlahGaris != square:\n",
    "    data=deleteAfter(data,garisColumn,garisRow)\n",
    "    garisRow=np.zeros((square,), dtype=int)\n",
    "    garisColumn=np.zeros((square,), dtype=int)\n",
    "    data_lama=copy(data)\n",
    "    data_baru,garisRow,garisColumn=garisin(data,garisRow,garisColumn,square)\n",
    "    data=data_lama\n",
    "    jumlahGaris=0\n",
    "    jumlahGaris+=np.count_nonzero(garisRow)\n",
    "    jumlahGaris+=np.count_nonzero(garisColumn)\n",
    "\n",
    "nolRow,nolColumn,selectedCell,nilai=selectZero(data,square)"
   ]
  },
  {
   "cell_type": "code",
   "execution_count": 13,
   "metadata": {
    "ExecuteTime": {
     "end_time": "2018-11-16T11:01:53.914112Z",
     "start_time": "2018-11-16T11:01:53.868137Z"
    }
   },
   "outputs": [],
   "source": [
    "import numpy as np\n",
    "import math\n",
    "import collections\n",
    "from copy import copy"
   ]
  },
  {
   "cell_type": "code",
   "execution_count": 2,
   "metadata": {
    "ExecuteTime": {
     "end_time": "2018-11-14T14:55:04.724094Z",
     "start_time": "2018-11-14T14:55:04.720590Z"
    }
   },
   "outputs": [],
   "source": [
    "input_path='input_am.txt'"
   ]
  },
  {
   "cell_type": "code",
   "execution_count": 40,
   "metadata": {
    "ExecuteTime": {
     "end_time": "2018-11-16T11:29:24.946441Z",
     "start_time": "2018-11-16T11:29:24.914921Z"
    }
   },
   "outputs": [],
   "source": [
    "def readData():\n",
    "    data = []\n",
    "    with open(input_path) as file:\n",
    "        content = file.readlines()\n",
    "    for index, lines in enumerate(content):\n",
    "        content[index] = lines.split()\n",
    "    square = int(content[0][0])\n",
    "    content = content[1:]\n",
    "    for x in range(0, square):\n",
    "        row = []\n",
    "        for y in range(0, square):\n",
    "            row.append(int(content[x][y]))\n",
    "        data.append(row)\n",
    "    return data,square"
   ]
  },
  {
   "cell_type": "code",
   "execution_count": 41,
   "metadata": {
    "ExecuteTime": {
     "end_time": "2018-11-16T11:29:27.412196Z",
     "start_time": "2018-11-16T11:29:27.263537Z"
    }
   },
   "outputs": [
    {
     "name": "stdout",
     "output_type": "stream",
     "text": [
      "[[ 1  4  6  3]\n",
      " [ 9  7 10  9]\n",
      " [ 4  5 11  7]\n",
      " [ 8  7  8  5]]\n"
     ]
    }
   ],
   "source": [
    "data,square = readData()\n",
    "data = np.array(data)"
   ]
  },
  {
   "cell_type": "code",
   "execution_count": 5,
   "metadata": {
    "ExecuteTime": {
     "end_time": "2018-11-14T14:55:10.356347Z",
     "start_time": "2018-11-14T14:55:10.351844Z"
    }
   },
   "outputs": [],
   "source": [
    "def deleteRow(data):\n",
    "    for indexR, row in enumerate(data):\n",
    "        indexDel=np.argmin(row)\n",
    "        lowest=int(data[indexR][indexDel])\n",
    "        for indexC, column in enumerate(row):\n",
    "            data[indexR][indexC]-=lowest\n",
    "    return data"
   ]
  },
  {
   "cell_type": "code",
   "execution_count": 42,
   "metadata": {
    "ExecuteTime": {
     "end_time": "2018-11-16T11:29:31.225059Z",
     "start_time": "2018-11-16T11:29:31.056346Z"
    }
   },
   "outputs": [
    {
     "name": "stdout",
     "output_type": "stream",
     "text": [
      "[[ 1  4  6  3]\n",
      " [ 9  7 10  9]\n",
      " [ 4  5 11  7]\n",
      " [ 8  7  8  5]]\n",
      "[[0 3 5 2]\n",
      " [2 0 3 2]\n",
      " [0 1 7 3]\n",
      " [3 2 3 0]]\n"
     ]
    }
   ],
   "source": [
    "data=deleteRow(data)"
   ]
  },
  {
   "cell_type": "code",
   "execution_count": 39,
   "metadata": {
    "ExecuteTime": {
     "end_time": "2018-11-16T11:29:20.953522Z",
     "start_time": "2018-11-16T11:29:20.884475Z"
    }
   },
   "outputs": [],
   "source": [
    "def deleteColumn(data):\n",
    "    data=np.transpose(data)\n",
    "    for indexR, row in enumerate(data):\n",
    "        indexDel=np.argmin(row)\n",
    "        lowest=int(data[indexR][indexDel])\n",
    "        for indexC, column in enumerate(row):\n",
    "            data[indexR][indexC]-=lowest\n",
    "    data=np.transpose(data)\n",
    "    return data"
   ]
  },
  {
   "cell_type": "code",
   "execution_count": 43,
   "metadata": {
    "ExecuteTime": {
     "end_time": "2018-11-16T11:29:34.110283Z",
     "start_time": "2018-11-16T11:29:34.105781Z"
    },
    "scrolled": true
   },
   "outputs": [
    {
     "name": "stdout",
     "output_type": "stream",
     "text": [
      "[[0 3 5 2]\n",
      " [2 0 3 2]\n",
      " [0 1 7 3]\n",
      " [3 2 3 0]]\n",
      "[[0 3 2 2]\n",
      " [2 0 0 2]\n",
      " [0 1 4 3]\n",
      " [3 2 0 0]]\n"
     ]
    }
   ],
   "source": [
    "data=deleteColumn(data)"
   ]
  },
  {
   "cell_type": "code",
   "execution_count": 143,
   "metadata": {
    "ExecuteTime": {
     "end_time": "2018-11-16T14:10:09.389008Z",
     "start_time": "2018-11-16T14:10:09.344979Z"
    }
   },
   "outputs": [],
   "source": [
    "def satuGarisRow(data,garisRow,garisColumn,square,highest):\n",
    "    data_lama=copy(data)\n",
    "    garisRow_lama=copy(garisRow)\n",
    "    garisColumn_lama=copy(garisColumn)\n",
    "    highest_lama=copy(highest)\n",
    "    \n",
    "    founded=False\n",
    "    for index, row in enumerate(data):\n",
    "        sumZero = collections.Counter(row)\n",
    "        if sumZero[0] == highest:\n",
    "            garisRow[index] = 1\n",
    "            data[index] = np.full((square,), 1, dtype=int)\n",
    "            founded=True\n",
    "            break\n",
    "     \n",
    "    \n",
    "    if 0 not in data:   \n",
    "        if 1 not in garisColumn:\n",
    "            return data,garisRow,garisColumn,False\n",
    "        else:\n",
    "            return data,garisRow,garisColumn,True\n",
    "    \n",
    "    if founded:\n",
    "        data,garisRow,garisColumn,nilai=satuGarisRow(data,garisRow,garisColumn,square,highest)\n",
    "        if not nilai:\n",
    "            data,garisRow,garisColumn,nilai=satuGarisColumn(data_lama,garisRow_lama,garisColumn_lama,square,highest_lama)\n",
    "    else:\n",
    "        data,garisRow,garisColumn,nilai=satuGarisColumn(data,garisRow,garisColumn,square,highest)\n",
    "        if not nilai:\n",
    "            data,garisRow,garisColumn,nilai=satuGarisRow(data_lama,garisRow_lama,garisColumn_lama,square,highest_lama-1)\n",
    "\n",
    "    \n",
    "    return data,garisRow,garisColumn,True\n",
    "\n",
    "def satuGarisColumn(data,garisRow,garisColumn,square,highest):\n",
    "    data_lama=copy(data)\n",
    "    garisRow_lama=copy(garisRow)\n",
    "    garisColumn_lama=copy(garisColumn)\n",
    "    highest_lama=copy(highest)\n",
    "    \n",
    "    founded=False\n",
    "    data = np.transpose(data)\n",
    "    \n",
    "    for index, row in enumerate(data):\n",
    "        sumZero = collections.Counter(row)\n",
    "        if sumZero[0] == highest:\n",
    "            garisColumn[index] = 1\n",
    "            data[index] = np.full((square,), 1, dtype=int)\n",
    "            founded=True\n",
    "            break\n",
    "\n",
    "            \n",
    "    data = np.transpose(data)\n",
    "\n",
    "    \n",
    "    \n",
    "    if 0 not in data:\n",
    "        if 1 not in garisRow:\n",
    "            return data,garisRow,garisColumn,False\n",
    "        else:\n",
    "            return data,garisRow,garisColumn,True\n",
    "    \n",
    "    if founded:\n",
    "        data,garisRow,garisColumn,nilai=satuGarisColumn(data,garisRow,garisColumn,square,highest)\n",
    "        if not nilai:\n",
    "            data,garisRow,garisColumn,nilai=satuGarisRow(data_lama,garisRow_lama,garisColumn_lama,square,highest_lama-1)\n",
    "    else:\n",
    "        data,garisRow,garisColumn,nilai=satuGarisRow(data,garisRow,garisColumn,square,highest-1)\n",
    "        if not nilai:\n",
    "            data,garisRow,garisColumn,nilai=satuGarisColumn(data_lama,garisRow_lama,garisColumn_lama,square,highest_lama-1)\n",
    "\n",
    "        \n",
    "    return data,garisRow,garisColumn,True\n",
    "    "
   ]
  },
  {
   "cell_type": "code",
   "execution_count": 18,
   "metadata": {
    "ExecuteTime": {
     "end_time": "2018-11-16T11:12:06.133945Z",
     "start_time": "2018-11-16T11:12:06.127441Z"
    }
   },
   "outputs": [],
   "source": [
    "def garisin(data, garisRow, garisColumn,square):\n",
    "    highest = 0\n",
    "    for index, row in enumerate(data):\n",
    "        sumZero = collections.Counter(row)\n",
    "        if sumZero[0] > highest:\n",
    "            highest = sumZero[0]\n",
    "    for index, row in enumerate(np.transpose(data)):\n",
    "        sumZero = collections.Counter(row)\n",
    "        if sumZero[0] > highest:\n",
    "            highest = sumZero[0]\n",
    "    \n",
    "    data,garisRow,garisColumn,nilai = satuGarisRow(data,garisRow,garisColumn,square,highest)\n",
    "    return data,garisRow,garisColumn\n"
   ]
  },
  {
   "cell_type": "code",
   "execution_count": 151,
   "metadata": {
    "ExecuteTime": {
     "end_time": "2018-11-17T04:42:35.760050Z",
     "start_time": "2018-11-17T04:42:35.754048Z"
    }
   },
   "outputs": [
    {
     "name": "stdout",
     "output_type": "stream",
     "text": [
      "wkwk [[0 3 2 2]\n",
      " [1 1 1 1]\n",
      " [0 1 4 3]\n",
      " [3 2 0 0]]\n",
      "wkwk [[0 3 2 2]\n",
      " [1 1 1 1]\n",
      " [0 1 4 3]\n",
      " [1 1 1 1]]\n",
      "wkwk [[0 3 2 2]\n",
      " [1 1 1 1]\n",
      " [0 1 4 3]\n",
      " [1 1 1 1]]\n",
      "haha [[1 3 2 2]\n",
      " [1 1 1 1]\n",
      " [1 1 4 3]\n",
      " [1 1 1 1]]\n"
     ]
    }
   ],
   "source": [
    "garisRow=np.zeros((square,), dtype=int)\n",
    "garisColumn=np.zeros((square,), dtype=int)\n",
    "data_lama=copy(data)\n",
    "data_baru,garisRow,garisColumn=garisin(data,garisRow,garisColumn,square)\n",
    "data=data_lama"
   ]
  },
  {
   "cell_type": "code",
   "execution_count": 133,
   "metadata": {
    "ExecuteTime": {
     "end_time": "2018-11-16T14:04:42.156722Z",
     "start_time": "2018-11-16T14:04:42.148717Z"
    }
   },
   "outputs": [],
   "source": [
    "def deleteAfter(data, garisColumn,garisRow):\n",
    "    lowest=math.inf\n",
    "    for row,dataRow in enumerate(data):\n",
    "        for column,dataColumn in enumerate(dataRow):\n",
    "            if (garisColumn[column] == 0) and (garisRow[row] == 0):\n",
    "                if data[row][column] < lowest:\n",
    "                    lowest=data[row][column]\n",
    "    \n",
    "    for row,dataRow in enumerate(data):\n",
    "        for column,dataColumn in enumerate(dataRow):\n",
    "            if (garisColumn[column] == 0) and (garisRow[row] == 0):\n",
    "                data[row][column] -= lowest\n",
    "            elif (garisColumn[column] == 1) and (garisRow[row] == 1):\n",
    "                data[row][column] += lowest\n",
    "    \n",
    "    return data"
   ]
  },
  {
   "cell_type": "code",
   "execution_count": 110,
   "metadata": {
    "ExecuteTime": {
     "end_time": "2018-11-16T13:33:50.072794Z",
     "start_time": "2018-11-16T13:33:50.068791Z"
    }
   },
   "outputs": [],
   "source": [
    "jumlahGaris=0\n",
    "jumlahGaris+=np.count_nonzero(garisRow)\n",
    "jumlahGaris+=np.count_nonzero(garisColumn)"
   ]
  },
  {
   "cell_type": "code",
   "execution_count": 153,
   "metadata": {
    "ExecuteTime": {
     "end_time": "2018-11-17T04:42:50.264847Z",
     "start_time": "2018-11-17T04:42:50.256841Z"
    }
   },
   "outputs": [
    {
     "name": "stdout",
     "output_type": "stream",
     "text": [
      "wkwk [[0 2 1 1]\n",
      " [1 1 1 1]\n",
      " [0 0 3 2]\n",
      " [4 2 0 0]]\n",
      "wkwk [[0 2 1 1]\n",
      " [1 1 1 1]\n",
      " [1 1 1 1]\n",
      " [4 2 0 0]]\n",
      "wkwk [[0 2 1 1]\n",
      " [1 1 1 1]\n",
      " [1 1 1 1]\n",
      " [1 1 1 1]]\n",
      "wkwk [[0 2 1 1]\n",
      " [1 1 1 1]\n",
      " [1 1 1 1]\n",
      " [1 1 1 1]]\n",
      "haha [[0 2 1 1]\n",
      " [1 1 1 1]\n",
      " [1 1 1 1]\n",
      " [1 1 1 1]]\n",
      "wkwk [[1 1 1 1]\n",
      " [1 1 1 1]\n",
      " [1 1 1 1]\n",
      " [1 1 1 1]]\n",
      "haha [[1 2 1 1]\n",
      " [1 1 1 1]\n",
      " [1 1 1 1]\n",
      " [1 1 1 1]]\n",
      "[[1 2 1 1]\n",
      " [1 1 1 1]\n",
      " [1 1 1 1]\n",
      " [1 1 1 1]]\n"
     ]
    }
   ],
   "source": [
    "while jumlahGaris != square:\n",
    "    data=deleteAfter(data,garisColumn,garisRow)\n",
    "    garisRow=np.zeros((square,), dtype=int)\n",
    "    garisColumn=np.zeros((square,), dtype=int)\n",
    "    data_lama=copy(data)\n",
    "    data_baru,garisRow,garisColumn=garisin(data,garisRow,garisColumn,square)\n",
    "    data=data_lama\n",
    "    jumlahGaris=0\n",
    "    jumlahGaris+=np.count_nonzero(garisRow)\n",
    "    jumlahGaris+=np.count_nonzero(garisColumn)"
   ]
  },
  {
   "cell_type": "code",
   "execution_count": 184,
   "metadata": {
    "ExecuteTime": {
     "end_time": "2018-11-17T04:53:44.401301Z",
     "start_time": "2018-11-17T04:53:44.386291Z"
    }
   },
   "outputs": [],
   "source": [
    "def cellZero(data, row, column, nolRow, nolColumn, selectedCell, square):\n",
    "    nolRow_lama = copy(nolRow)\n",
    "    nolColumn_lama = copy(nolColumn)\n",
    "    selectedCell_lama = copy(selectedCell)\n",
    "    row_lama = copy(row)\n",
    "    column_lama = copy(column)\n",
    "    if row == square:\n",
    "        return nolRow, nolColumn, selectedCell, True\n",
    "    if data[row][column] == 0:\n",
    "        if nolRow[row] == 0 and nolColumn[column] == 0:\n",
    "            selectedCell.append((row, column))\n",
    "            nolRow[row] = 1\n",
    "            nolColumn[column] = 1\n",
    "            nolRow, nolColumn, selectedCell, nilai = cellZero(\n",
    "                data, row + 1, 0, nolRow, nolColumn, selectedCell, square)\n",
    "            if nilai:\n",
    "                return nolRow, nolColumn, selectedCell, True\n",
    "            else:\n",
    "                return cellZero(data, row_lama, column_lama + 1, nolRow_lama,\n",
    "                                nolColumn_lama, selectedCell_lama, square)\n",
    "        else:\n",
    "            if column == (square - 1) and row == (square - 1):\n",
    "                return nolRow, nolColumn, selectedCell, True\n",
    "            elif column == (square - 1):\n",
    "                return nolRow, nolColumn, selectedCell, False\n",
    "            else:\n",
    "                return cellZero(data, row, column + 1, nolRow, nolColumn,\n",
    "                                selectedCell, square)\n",
    "    else:\n",
    "        if column == (square - 1) and row == (square - 1):\n",
    "            return nolRow, nolColumn, selectedCell, True\n",
    "        elif column == (square - 1):\n",
    "            return nolRow, nolColumn, selectedCell, False\n",
    "        else:\n",
    "            return cellZero(data, row, column + 1, nolRow, nolColumn,\n",
    "                            selectedCell, square)\n",
    "\n",
    "\n",
    "def selectZero(data, square):\n",
    "    selectedCell = []\n",
    "    nolRow = np.zeros((square, ), dtype=int)\n",
    "    nolColumn = np.zeros((square, ), dtype=int)\n",
    "    nolRow, nolColumn, selectedCell, nilai = cellZero(\n",
    "        data, 0, 0, nolRow, nolColumn, selectedCell, square)\n",
    "    return nolRow, nolColumn, selectedCell, nilai"
   ]
  },
  {
   "cell_type": "code",
   "execution_count": 186,
   "metadata": {
    "ExecuteTime": {
     "end_time": "2018-11-17T04:53:52.226125Z",
     "start_time": "2018-11-17T04:53:52.219119Z"
    }
   },
   "outputs": [
    {
     "name": "stdout",
     "output_type": "stream",
     "text": [
      "[0 0 0 0] [0 0 0 0]\n",
      "[1 0 0 0] [1 0 0 0]\n",
      "[1 0 0 0] [1 0 0 0]\n",
      "[1 1 0 0] [1 1 0 0]\n",
      "[1 1 0 0] [1 1 0 0]\n",
      "[1 1 0 0] [1 1 0 0]\n",
      "[1 1 0 0] [1 1 0 0]\n",
      "[1 0 0 0] [1 0 0 0]\n",
      "[1 1 0 0] [1 0 1 0]\n",
      "[1 1 0 0] [1 0 1 0]\n",
      "[1 1 1 0] [1 1 1 0]\n",
      "[1 1 1 0] [1 1 1 0]\n",
      "[1 1 1 0] [1 1 1 0]\n",
      "[1 1 1 0] [1 1 1 0]\n",
      "[1 1 1 1] [1 1 1 1]\n"
     ]
    }
   ],
   "source": [
    " nolRow,nolColumn,selectedCell,nilai=selectZero(data,square)"
   ]
  }
 ],
 "metadata": {
  "kernelspec": {
   "display_name": "Python 3",
   "language": "python",
   "name": "python3"
  },
  "language_info": {
   "codemirror_mode": {
    "name": "ipython",
    "version": 3
   },
   "file_extension": ".py",
   "mimetype": "text/x-python",
   "name": "python",
   "nbconvert_exporter": "python",
   "pygments_lexer": "ipython3",
   "version": "3.6.5"
  }
 },
 "nbformat": 4,
 "nbformat_minor": 2
}

{
 "cells": [
  {
   "cell_type": "code",
   "execution_count": 8,
   "metadata": {
    "ExecuteTime": {
     "end_time": "2018-12-04T06:14:10.076068Z",
     "start_time": "2018-12-04T06:14:10.071071Z"
    }
   },
   "outputs": [],
   "source": [
    "import numpy as np\n",
    "import math"
   ]
  },
  {
   "cell_type": "code",
   "execution_count": 2,
   "metadata": {
    "ExecuteTime": {
     "end_time": "2018-12-04T05:51:21.720925Z",
     "start_time": "2018-12-04T05:51:21.713301Z"
    }
   },
   "outputs": [],
   "source": [
    "input_path='inputFloyd.txt'"
   ]
  },
  {
   "cell_type": "code",
   "execution_count": 5,
   "metadata": {
    "ExecuteTime": {
     "end_time": "2018-12-04T05:58:37.510380Z",
     "start_time": "2018-12-04T05:58:37.502385Z"
    }
   },
   "outputs": [],
   "source": [
    "def readData():\n",
    "    data=[]\n",
    "    with open(input_path) as file:\n",
    "        content = file.readlines()\n",
    "    for index,lines in enumerate (content):\n",
    "        content[index]=lines.split()\n",
    "    square=int(content[0][0])\n",
    "    content=content[1:]\n",
    "    return square,content"
   ]
  },
  {
   "cell_type": "code",
   "execution_count": 6,
   "metadata": {
    "ExecuteTime": {
     "end_time": "2018-12-04T05:58:40.320672Z",
     "start_time": "2018-12-04T05:58:40.316676Z"
    }
   },
   "outputs": [],
   "source": [
    "square,data=readData()"
   ]
  },
  {
   "cell_type": "code",
   "execution_count": 9,
   "metadata": {
    "ExecuteTime": {
     "end_time": "2018-12-04T06:16:16.920025Z",
     "start_time": "2018-12-04T06:16:16.915028Z"
    }
   },
   "outputs": [],
   "source": [
    "dTable = np.empty((square,square))\n",
    "dTable[:]= np.nan\n",
    "sTable = np.empty((square,square))\n",
    "sTable[:]= np.nan"
   ]
  },
  {
   "cell_type": "code",
   "execution_count": null,
   "metadata": {},
   "outputs": [],
   "source": [
    "for data in content:\n",
    "    dTable"
   ]
  },
  {
   "cell_type": "code",
   "execution_count": null,
   "metadata": {},
   "outputs": [],
   "source": [
    "for i in range(0,square):\n",
    "    print(\"Iteration ke-\"+str(i+1))\n",
    "    for k in range(0,square):\n",
    "        for l in range(0,square):\n",
    "            if(k!=l):\n",
    "                if(k!=i || l!=i):\n",
    "                    if(dTable[i,j])"
   ]
  }
 ],
 "metadata": {
  "kernelspec": {
   "display_name": "Python 3",
   "language": "python",
   "name": "python3"
  },
  "language_info": {
   "codemirror_mode": {
    "name": "ipython",
    "version": 3
   },
   "file_extension": ".py",
   "mimetype": "text/x-python",
   "name": "python",
   "nbconvert_exporter": "python",
   "pygments_lexer": "ipython3",
   "version": "3.6.5"
  }
 },
 "nbformat": 4,
 "nbformat_minor": 2
}
